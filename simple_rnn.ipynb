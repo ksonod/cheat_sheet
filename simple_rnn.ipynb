{
 "cells": [
  {
   "cell_type": "markdown",
   "metadata": {},
   "source": [
    "# Recurrent Neural Network"
   ]
  },
  {
   "cell_type": "markdown",
   "metadata": {},
   "source": [
    "- Wikipedia: https://en.wikipedia.org/wiki/Recurrent_neural_network\n",
    "- Keras document about simple RNN: https://keras.io/layers/recurrent/#simplernn  \n",
    "- Reference: https://github.com/yusugomori/deeplearning-keras-tf2-torch/blob/master/5/01_sin_rnn_keras.py"
   ]
  },
  {
   "cell_type": "code",
   "execution_count": 1,
   "metadata": {},
   "outputs": [
    {
     "name": "stderr",
     "output_type": "stream",
     "text": [
      "Using TensorFlow backend.\n"
     ]
    }
   ],
   "source": [
    "import numpy as np\n",
    "import matplotlib.pyplot as plt\n",
    "from sklearn.model_selection import train_test_split\n",
    "from keras.layers.recurrent import SimpleRNN\n",
    "from keras import layers, models,optimizers\n",
    "from keras.callbacks import EarlyStopping"
   ]
  },
  {
   "cell_type": "markdown",
   "metadata": {},
   "source": [
    "Let us define a sinusoidal function with random noise."
   ]
  },
  {
   "cell_type": "code",
   "execution_count": 2,
   "metadata": {},
   "outputs": [],
   "source": [
    "def f(t,T):\n",
    "    u=np.random.uniform(-1,1,t.shape)\n",
    "    return np.sin(2*np.pi/T*t)+0.05*u"
   ]
  },
  {
   "cell_type": "code",
   "execution_count": 43,
   "metadata": {},
   "outputs": [
    {
     "data": {
      "image/png": "[encoded data removed]",
      "text/plain": [
       "<Figure size 432x288 with 1 Axes>"
      ]
     },
     "metadata": {
      "needs_background": "light"
     },
     "output_type": "display_data"
    }
   ],
   "source": [
    "T=200 # period\n",
    "N=200 # number of data points\n",
    "t=np.linspace(0,2*T,N) # time\n",
    "\n",
    "np.random.seed(4) # random seed for the noise\n",
    "f_original=f(t,T) # y value\n",
    "plt.plot(t,f_original,'k') # data visualization\n",
    "plt.xlabel('Time')\n",
    "plt.show()"
   ]
  },
  {
   "cell_type": "markdown",
   "metadata": {},
   "source": [
    "Let us divide the data and create feature and target in the following way:  \n",
    "|f(0) f(1) f(2) ... f(&tau;)| -> f(&tau;+1)  \n",
    "|f(1) f(2) f(3) ... f(&tau;+1)| -> f(&tau;+2)  \n",
    "...  \n",
    "|f(t-&tau;-1) f(t-&tau;) f(t-&tau;+1) ... f(t-1)| -> f(t)  "
   ]
  },
  {
   "cell_type": "code",
   "execution_count": 4,
   "metadata": {},
   "outputs": [],
   "source": [
    "max_len=25 # number of data that are used for making prediction(tau)\n",
    "\n",
    "ts_data=[] \n",
    "target=[]\n",
    "\n",
    "for i in range(0,N-max_len): \n",
    "    np.random.seed(4)\n",
    "    ts_data.append(f(t,T)[i:i+max_len])\n",
    "    np.random.seed(4)\n",
    "    target.append(f(t,T)[i+max_len])\n",
    "    \n",
    "ts_data=np.array(ts_data)\n",
    "target=np.array(target)"
   ]
  },
  {
   "cell_type": "code",
   "execution_count": 5,
   "metadata": {},
   "outputs": [
    {
     "name": "stdout",
     "output_type": "stream",
     "text": [
      "ts_data shape: (175, 25)\n",
      "target: (175,)\n"
     ]
    }
   ],
   "source": [
    "print(\"ts_data shape:\",ts_data.shape)\n",
    "print(\"target:\",target.shape)"
   ]
  },
  {
   "cell_type": "markdown",
   "metadata": {},
   "source": [
    "Let us see the first row of ts_data."
   ]
  },
  {
   "cell_type": "code",
   "execution_count": 6,
   "metadata": {},
   "outputs": [
    {
     "data": {
      "text/plain": [
       "array([0.04670298, 0.06782886, 0.17322814, 0.20979327, 0.26968584,\n",
       "       0.28212698, 0.41751273, 0.37840109, 0.45926384, 0.53170306,\n",
       "       0.61827498, 0.60986473, 0.72360347, 0.78011233, 0.73970756,\n",
       "       0.8215251 , 0.79792264, 0.86753701, 0.86164826, 0.97763343,\n",
       "       0.94660357, 1.01510853, 1.01219574, 1.02962763, 0.96579042])"
      ]
     },
     "execution_count": 6,
     "metadata": {},
     "output_type": "execute_result"
    }
   ],
   "source": [
    "ts_data[0]"
   ]
  },
  {
   "cell_type": "markdown",
   "metadata": {},
   "source": [
    "The second row of ts_data is shifted compared to ts_data[0]."
   ]
  },
  {
   "cell_type": "code",
   "execution_count": 7,
   "metadata": {},
   "outputs": [
    {
     "data": {
      "text/plain": [
       "array([0.06782886, 0.17322814, 0.20979327, 0.26968584, 0.28212698,\n",
       "       0.41751273, 0.37840109, 0.45926384, 0.53170306, 0.61827498,\n",
       "       0.60986473, 0.72360347, 0.78011233, 0.73970756, 0.8215251 ,\n",
       "       0.79792264, 0.86753701, 0.86164826, 0.97763343, 0.94660357,\n",
       "       1.01510853, 1.01219574, 1.02962763, 0.96579042, 0.95746371])"
      ]
     },
     "execution_count": 7,
     "metadata": {},
     "output_type": "execute_result"
    }
   ],
   "source": [
    "ts_data[1]"
   ]
  },
  {
   "cell_type": "markdown",
   "metadata": {},
   "source": [
    "The first number of target shown below is the last one in the ts_data[1]."
   ]
  },
  {
   "cell_type": "code",
   "execution_count": 23,
   "metadata": {},
   "outputs": [
    {
     "data": {
      "text/plain": [
       "array([ 0.95746371,  1.00755192,  0.95780743,  1.00393033,  0.95710987,\n",
       "        0.95087773,  0.96988601,  0.90264864,  0.83205898,  0.80434958,\n",
       "        0.80699248,  0.76565871,  0.734683  ,  0.66590139,  0.64286848,\n",
       "        0.56721115,  0.53724377,  0.49683146,  0.38135322,  0.34273013,\n",
       "        0.29572676,  0.25326321,  0.14815235,  0.11575759,  0.05983607,\n",
       "        0.02376387, -0.09256719, -0.12784881, -0.23464738, -0.26538773,\n",
       "       -0.35724069, -0.34266753, -0.44881148, -0.46470082, -0.55978388,\n",
       "       -0.56253835, -0.66166243, -0.7155677 , -0.7352263 , -0.74869127,\n",
       "       -0.78480744, -0.84574092, -0.92783492, -0.90403271, -0.96302977,\n",
       "       -0.93439412, -0.93444918, -0.98481944, -0.98438336, -1.04271449,\n",
       "       -0.99571216, -1.03331414, -0.97731845, -0.99101007, -0.93530356,\n",
       "       -0.98809508, -0.95907695, -0.87509907, -0.86191691, -0.82265732,\n",
       "       -0.75858203, -0.7541493 , -0.67887758, -0.66300678, -0.57285117,\n",
       "       -0.54786891, -0.54647693, -0.46964384, -0.36245307, -0.35534278,\n",
       "       -0.31145265, -0.22195945, -0.16793593, -0.08268682, -0.03789192,\n",
       "        0.00766077,  0.08582703,  0.14911745,  0.25946376,  0.32831686,\n",
       "        0.35272819,  0.35734897,  0.47939903,  0.52921816,  0.59716397,\n",
       "        0.60026837,  0.61991915,  0.7210742 ,  0.71532453,  0.81890569,\n",
       "        0.85926379,  0.85424495,  0.93788115,  0.88743674,  0.98720708,\n",
       "        0.95862833,  1.00367446,  1.01405675,  1.04435381,  1.04704743,\n",
       "        0.95323038,  0.94633684,  0.99062187,  0.92730207,  0.97340193,\n",
       "        0.9410654 ,  0.93041521,  0.88043515,  0.83255688,  0.86587577,\n",
       "        0.80606258,  0.69307257,  0.65861792,  0.66531417,  0.58180879,\n",
       "        0.54222368,  0.52587274,  0.42740824,  0.42708669,  0.34753044,\n",
       "        0.27035978,  0.1718885 ,  0.13256366,  0.10514072,  0.06486592,\n",
       "       -0.08997775, -0.14680824, -0.14877991, -0.20121837, -0.33659616,\n",
       "       -0.32223076, -0.3847826 , -0.45126883, -0.54085952, -0.58306709,\n",
       "       -0.64125436, -0.64170524, -0.73808977, -0.7809608 , -0.75894313,\n",
       "       -0.7965285 , -0.82437223, -0.86972414, -0.96743729, -0.98899579,\n",
       "       -0.96055728, -0.94497393, -0.95259042, -0.98379278, -0.95438839,\n",
       "       -1.03328532, -1.02084061, -1.00031562, -0.9945303 , -0.97176841,\n",
       "       -0.97012358, -0.91969824, -0.92590248, -0.84324587, -0.76720887,\n",
       "       -0.77881081, -0.71935694, -0.67612291, -0.59675831, -0.56688479,\n",
       "       -0.50574181, -0.50038066, -0.3870316 , -0.40136436, -0.3197198 ,\n",
       "       -0.22616777, -0.20496603, -0.08734628, -0.02704005, -0.03348819])"
      ]
     },
     "execution_count": 23,
     "metadata": {},
     "output_type": "execute_result"
    }
   ],
   "source": [
    "target"
   ]
  },
  {
   "cell_type": "code",
   "execution_count": 24,
   "metadata": {},
   "outputs": [
    {
     "name": "stdout",
     "output_type": "stream",
     "text": [
      "X shape: (175, 25, 1)\n",
      "y shape: (175, 1)\n",
      "\n",
      "X_train shape: (140, 25, 1)\n",
      "y_train shape: (140, 1)\n",
      "X_val shape: (35, 25, 1)\n",
      "y_val shape: (35, 1)\n"
     ]
    }
   ],
   "source": [
    "X=ts_data.reshape(len(ts_data),max_len,1) \n",
    "y=target.reshape(len(ts_data),1)\n",
    "\n",
    "print(\"X shape:\",X.shape)\n",
    "print(\"y shape:\",y.shape)\n",
    "\n",
    "X_train, X_val, y_train, y_val = train_test_split(X,y,test_size=0.2, shuffle=False) # split data into training and validation set.\n",
    "\n",
    "print(\"\\nX_train shape:\",X_train.shape)\n",
    "print(\"y_train shape:\",y_train.shape)\n",
    "\n",
    "print(\"X_val shape:\",X_val.shape)\n",
    "print(\"y_val shape:\",y_val.shape)"
   ]
  },
  {
   "cell_type": "markdown",
   "metadata": {},
   "source": [
    "Let us build a model. For detailed information, please refer to the [keras documentation](https://keras.io/layers/recurrent/#simplernn)."
   ]
  },
  {
   "cell_type": "code",
   "execution_count": 25,
   "metadata": {},
   "outputs": [],
   "source": [
    "np.random.seed(1)\n",
    "\n",
    "model = models.Sequential()\n",
    "model.add(SimpleRNN(units=50, \n",
    "                    activation='tanh',\n",
    "                    kernel_initializer='glorot_normal',\n",
    "                    recurrent_initializer='orthogonal')) \n",
    "\n",
    "model.add(layers.Dense(1,activation='linear'))\n",
    "\n",
    "model.compile(loss='mean_squared_error',\n",
    "              optimizer=optimizers.Adam(lr=0.001, beta_1=0.9, beta_2=0.999, amsgrad=True))"
   ]
  },
  {
   "cell_type": "markdown",
   "metadata": {},
   "source": [
    "Let us start training the model."
   ]
  },
  {
   "cell_type": "code",
   "execution_count": 26,
   "metadata": {
    "scrolled": false
   },
   "outputs": [
    {
     "name": "stdout",
     "output_type": "stream",
     "text": [
      "Train on 140 samples, validate on 35 samples\n",
      "Epoch 1/1000\n",
      "140/140 [==============================] - 0s 2ms/step - loss: 1.1833 - val_loss: 1.0319\n",
      "Epoch 2/1000\n",
      "140/140 [==============================] - 0s 109us/step - loss: 0.7562 - val_loss: 0.5628\n",
      "Epoch 3/1000\n",
      "140/140 [==============================] - 0s 133us/step - loss: 0.4848 - val_loss: 0.3007\n",
      "Epoch 4/1000\n",
      "140/140 [==============================] - 0s 128us/step - loss: 0.3080 - val_loss: 0.1625\n",
      "Epoch 5/1000\n",
      "140/140 [==============================] - 0s 125us/step - loss: 0.1692 - val_loss: 0.0955\n",
      "Epoch 6/1000\n",
      "140/140 [==============================] - 0s 115us/step - loss: 0.0749 - val_loss: 0.0629\n",
      "Epoch 7/1000\n",
      "140/140 [==============================] - 0s 124us/step - loss: 0.0456 - val_loss: 0.0459\n",
      "Epoch 8/1000\n",
      "140/140 [==============================] - 0s 131us/step - loss: 0.0502 - val_loss: 0.0304\n",
      "Epoch 9/1000\n",
      "140/140 [==============================] - 0s 125us/step - loss: 0.0466 - val_loss: 0.0281\n",
      "Epoch 10/1000\n",
      "140/140 [==============================] - 0s 117us/step - loss: 0.0405 - val_loss: 0.0391\n",
      "Epoch 11/1000\n",
      "140/140 [==============================] - 0s 116us/step - loss: 0.0393 - val_loss: 0.0403\n",
      "Epoch 12/1000\n",
      "140/140 [==============================] - 0s 123us/step - loss: 0.0344 - val_loss: 0.0294\n",
      "Epoch 13/1000\n",
      "140/140 [==============================] - 0s 134us/step - loss: 0.0224 - val_loss: 0.0193\n",
      "Epoch 14/1000\n",
      "140/140 [==============================] - 0s 121us/step - loss: 0.0128 - val_loss: 0.0189\n",
      "Epoch 15/1000\n",
      "140/140 [==============================] - 0s 113us/step - loss: 0.0117 - val_loss: 0.0238\n",
      "Epoch 16/1000\n",
      "140/140 [==============================] - 0s 127us/step - loss: 0.0149 - val_loss: 0.0251\n",
      "Epoch 17/1000\n",
      "140/140 [==============================] - 0s 124us/step - loss: 0.0158 - val_loss: 0.0203\n",
      "Epoch 18/1000\n",
      "140/140 [==============================] - 0s 121us/step - loss: 0.0129 - val_loss: 0.0147\n",
      "Epoch 19/1000\n",
      "140/140 [==============================] - 0s 123us/step - loss: 0.0096 - val_loss: 0.0136\n",
      "Epoch 20/1000\n",
      "140/140 [==============================] - 0s 128us/step - loss: 0.0079 - val_loss: 0.0152\n",
      "Epoch 21/1000\n",
      "140/140 [==============================] - 0s 111us/step - loss: 0.0074 - val_loss: 0.0145\n",
      "Epoch 22/1000\n",
      "140/140 [==============================] - 0s 134us/step - loss: 0.0068 - val_loss: 0.0109\n",
      "Epoch 23/1000\n",
      "140/140 [==============================] - 0s 122us/step - loss: 0.0067 - val_loss: 0.0080\n",
      "Epoch 24/1000\n",
      "140/140 [==============================] - 0s 121us/step - loss: 0.0069 - val_loss: 0.0071\n",
      "Epoch 25/1000\n",
      "140/140 [==============================] - 0s 150us/step - loss: 0.0060 - val_loss: 0.0068\n",
      "Epoch 26/1000\n",
      "140/140 [==============================] - 0s 120us/step - loss: 0.0043 - val_loss: 0.0068\n",
      "Epoch 27/1000\n",
      "140/140 [==============================] - 0s 127us/step - loss: 0.0043 - val_loss: 0.0066\n",
      "Epoch 28/1000\n",
      "140/140 [==============================] - 0s 109us/step - loss: 0.0046 - val_loss: 0.0059\n",
      "Epoch 29/1000\n",
      "140/140 [==============================] - 0s 102us/step - loss: 0.0042 - val_loss: 0.0057\n",
      "Epoch 30/1000\n",
      "140/140 [==============================] - 0s 127us/step - loss: 0.0037 - val_loss: 0.0058\n",
      "Epoch 31/1000\n",
      "140/140 [==============================] - 0s 106us/step - loss: 0.0036 - val_loss: 0.0055\n",
      "Epoch 32/1000\n",
      "140/140 [==============================] - 0s 123us/step - loss: 0.0034 - val_loss: 0.0051\n",
      "Epoch 33/1000\n",
      "140/140 [==============================] - 0s 113us/step - loss: 0.0030 - val_loss: 0.0059\n",
      "Epoch 34/1000\n",
      "140/140 [==============================] - 0s 126us/step - loss: 0.0030 - val_loss: 0.0063\n",
      "Epoch 35/1000\n",
      "140/140 [==============================] - 0s 120us/step - loss: 0.0030 - val_loss: 0.0056\n",
      "Epoch 36/1000\n",
      "140/140 [==============================] - 0s 129us/step - loss: 0.0028 - val_loss: 0.0051\n",
      "Epoch 37/1000\n",
      "140/140 [==============================] - 0s 133us/step - loss: 0.0026 - val_loss: 0.0050\n",
      "Epoch 38/1000\n",
      "140/140 [==============================] - 0s 128us/step - loss: 0.0026 - val_loss: 0.0048\n",
      "Epoch 39/1000\n",
      "140/140 [==============================] - 0s 122us/step - loss: 0.0025 - val_loss: 0.0046\n",
      "Epoch 40/1000\n",
      "140/140 [==============================] - 0s 128us/step - loss: 0.0024 - val_loss: 0.0045\n",
      "Epoch 41/1000\n",
      "140/140 [==============================] - 0s 156us/step - loss: 0.0023 - val_loss: 0.0045\n",
      "Epoch 42/1000\n",
      "140/140 [==============================] - 0s 148us/step - loss: 0.0022 - val_loss: 0.0045\n",
      "Epoch 43/1000\n",
      "140/140 [==============================] - 0s 151us/step - loss: 0.0022 - val_loss: 0.0045\n",
      "Epoch 44/1000\n",
      "140/140 [==============================] - 0s 157us/step - loss: 0.0021 - val_loss: 0.0045\n",
      "Epoch 45/1000\n",
      "140/140 [==============================] - 0s 166us/step - loss: 0.0021 - val_loss: 0.0044\n",
      "Epoch 46/1000\n",
      "140/140 [==============================] - 0s 161us/step - loss: 0.0020 - val_loss: 0.0042\n",
      "Epoch 47/1000\n",
      "140/140 [==============================] - 0s 168us/step - loss: 0.0020 - val_loss: 0.0042\n",
      "Epoch 48/1000\n",
      "140/140 [==============================] - 0s 121us/step - loss: 0.0019 - val_loss: 0.0041\n",
      "Epoch 49/1000\n",
      "140/140 [==============================] - 0s 125us/step - loss: 0.0019 - val_loss: 0.0040\n",
      "Epoch 50/1000\n",
      "140/140 [==============================] - 0s 130us/step - loss: 0.0018 - val_loss: 0.0040\n",
      "Epoch 51/1000\n",
      "140/140 [==============================] - 0s 112us/step - loss: 0.0018 - val_loss: 0.0040\n",
      "Epoch 52/1000\n",
      "140/140 [==============================] - 0s 110us/step - loss: 0.0017 - val_loss: 0.0039\n",
      "Epoch 53/1000\n",
      "140/140 [==============================] - 0s 152us/step - loss: 0.0017 - val_loss: 0.0038\n",
      "Epoch 54/1000\n",
      "140/140 [==============================] - 0s 129us/step - loss: 0.0017 - val_loss: 0.0037\n",
      "Epoch 55/1000\n",
      "140/140 [==============================] - 0s 123us/step - loss: 0.0017 - val_loss: 0.0037\n",
      "Epoch 56/1000\n",
      "140/140 [==============================] - 0s 116us/step - loss: 0.0016 - val_loss: 0.0036\n",
      "Epoch 57/1000\n",
      "140/140 [==============================] - 0s 124us/step - loss: 0.0016 - val_loss: 0.0035\n",
      "Epoch 58/1000\n",
      "140/140 [==============================] - 0s 117us/step - loss: 0.0015 - val_loss: 0.0035\n",
      "Epoch 59/1000\n",
      "140/140 [==============================] - 0s 132us/step - loss: 0.0015 - val_loss: 0.0035\n",
      "Epoch 60/1000\n",
      "140/140 [==============================] - 0s 169us/step - loss: 0.0015 - val_loss: 0.0034\n",
      "Epoch 61/1000\n",
      "140/140 [==============================] - 0s 153us/step - loss: 0.0014 - val_loss: 0.0034\n",
      "Epoch 62/1000\n",
      "140/140 [==============================] - 0s 131us/step - loss: 0.0014 - val_loss: 0.0034\n",
      "Epoch 63/1000\n",
      "140/140 [==============================] - 0s 147us/step - loss: 0.0014 - val_loss: 0.0033\n",
      "Epoch 64/1000\n",
      "140/140 [==============================] - 0s 141us/step - loss: 0.0014 - val_loss: 0.0033\n",
      "Epoch 65/1000\n",
      "140/140 [==============================] - 0s 142us/step - loss: 0.0014 - val_loss: 0.0032\n",
      "Epoch 66/1000\n",
      "140/140 [==============================] - 0s 128us/step - loss: 0.0013 - val_loss: 0.0031\n",
      "Epoch 67/1000\n",
      "140/140 [==============================] - 0s 118us/step - loss: 0.0013 - val_loss: 0.0032\n",
      "Epoch 68/1000\n",
      "140/140 [==============================] - 0s 121us/step - loss: 0.0013 - val_loss: 0.0031\n",
      "Epoch 69/1000\n",
      "140/140 [==============================] - 0s 121us/step - loss: 0.0013 - val_loss: 0.0030\n",
      "Epoch 70/1000\n",
      "140/140 [==============================] - 0s 138us/step - loss: 0.0013 - val_loss: 0.0030\n",
      "Epoch 71/1000\n",
      "140/140 [==============================] - 0s 142us/step - loss: 0.0013 - val_loss: 0.0029\n",
      "Epoch 72/1000\n",
      "140/140 [==============================] - 0s 122us/step - loss: 0.0012 - val_loss: 0.0029\n",
      "Epoch 73/1000\n",
      "140/140 [==============================] - 0s 146us/step - loss: 0.0012 - val_loss: 0.0028\n",
      "Epoch 74/1000\n",
      "140/140 [==============================] - 0s 129us/step - loss: 0.0012 - val_loss: 0.0028\n",
      "Epoch 75/1000\n",
      "140/140 [==============================] - 0s 132us/step - loss: 0.0012 - val_loss: 0.0028\n",
      "Epoch 76/1000\n",
      "140/140 [==============================] - 0s 140us/step - loss: 0.0012 - val_loss: 0.0028\n",
      "Epoch 77/1000\n",
      "140/140 [==============================] - 0s 138us/step - loss: 0.0012 - val_loss: 0.0027\n",
      "Epoch 78/1000\n"
     ]
    },
    {
     "name": "stdout",
     "output_type": "stream",
     "text": [
      "140/140 [==============================] - 0s 139us/step - loss: 0.0011 - val_loss: 0.0027\n",
      "Epoch 79/1000\n",
      "140/140 [==============================] - 0s 138us/step - loss: 0.0012 - val_loss: 0.0027\n",
      "Epoch 80/1000\n",
      "140/140 [==============================] - 0s 130us/step - loss: 0.0011 - val_loss: 0.0026\n",
      "Epoch 81/1000\n",
      "140/140 [==============================] - 0s 127us/step - loss: 0.0011 - val_loss: 0.0026\n",
      "Epoch 82/1000\n",
      "140/140 [==============================] - 0s 146us/step - loss: 0.0011 - val_loss: 0.0026\n",
      "Epoch 83/1000\n",
      "140/140 [==============================] - 0s 134us/step - loss: 0.0011 - val_loss: 0.0026\n",
      "Epoch 84/1000\n",
      "140/140 [==============================] - 0s 134us/step - loss: 0.0011 - val_loss: 0.0025\n",
      "Epoch 85/1000\n",
      "140/140 [==============================] - 0s 131us/step - loss: 0.0011 - val_loss: 0.0026\n",
      "Epoch 86/1000\n",
      "140/140 [==============================] - 0s 187us/step - loss: 0.0011 - val_loss: 0.0025\n",
      "Epoch 87/1000\n",
      "140/140 [==============================] - 0s 154us/step - loss: 0.0011 - val_loss: 0.0023\n",
      "Epoch 88/1000\n",
      "140/140 [==============================] - 0s 173us/step - loss: 0.0010 - val_loss: 0.0023\n",
      "Epoch 89/1000\n",
      "140/140 [==============================] - 0s 130us/step - loss: 0.0011 - val_loss: 0.0023\n",
      "Epoch 90/1000\n",
      "140/140 [==============================] - 0s 152us/step - loss: 0.0011 - val_loss: 0.0022\n",
      "Epoch 91/1000\n",
      "140/140 [==============================] - 0s 161us/step - loss: 0.0010 - val_loss: 0.0022\n",
      "Epoch 92/1000\n",
      "140/140 [==============================] - 0s 142us/step - loss: 0.0010 - val_loss: 0.0022\n",
      "Epoch 93/1000\n",
      "140/140 [==============================] - 0s 147us/step - loss: 0.0010 - val_loss: 0.0022\n",
      "Epoch 94/1000\n",
      "140/140 [==============================] - 0s 151us/step - loss: 0.0010 - val_loss: 0.0022\n",
      "Epoch 95/1000\n",
      "140/140 [==============================] - 0s 134us/step - loss: 0.0010 - val_loss: 0.0022\n",
      "Epoch 96/1000\n",
      "140/140 [==============================] - 0s 137us/step - loss: 0.0010 - val_loss: 0.0021\n",
      "Epoch 97/1000\n",
      "140/140 [==============================] - 0s 132us/step - loss: 0.0010 - val_loss: 0.0021\n",
      "Epoch 98/1000\n",
      "140/140 [==============================] - 0s 164us/step - loss: 0.0010 - val_loss: 0.0021\n",
      "Epoch 99/1000\n",
      "140/140 [==============================] - 0s 152us/step - loss: 0.0010 - val_loss: 0.0020\n",
      "Epoch 100/1000\n",
      "140/140 [==============================] - 0s 176us/step - loss: 9.9477e-04 - val_loss: 0.0020\n",
      "Epoch 101/1000\n",
      "140/140 [==============================] - 0s 155us/step - loss: 9.8754e-04 - val_loss: 0.0020\n",
      "Epoch 102/1000\n",
      "140/140 [==============================] - 0s 148us/step - loss: 9.9681e-04 - val_loss: 0.0020\n",
      "Epoch 103/1000\n",
      "140/140 [==============================] - 0s 161us/step - loss: 9.8216e-04 - val_loss: 0.0021\n",
      "Epoch 104/1000\n",
      "140/140 [==============================] - 0s 146us/step - loss: 9.8742e-04 - val_loss: 0.0020\n",
      "Epoch 105/1000\n",
      "140/140 [==============================] - 0s 135us/step - loss: 9.7802e-04 - val_loss: 0.0019\n",
      "Epoch 106/1000\n",
      "140/140 [==============================] - 0s 163us/step - loss: 9.6868e-04 - val_loss: 0.0019\n",
      "Epoch 107/1000\n",
      "140/140 [==============================] - 0s 158us/step - loss: 9.6091e-04 - val_loss: 0.0020\n",
      "Epoch 108/1000\n",
      "140/140 [==============================] - 0s 144us/step - loss: 9.7228e-04 - val_loss: 0.0019\n",
      "Epoch 109/1000\n",
      "140/140 [==============================] - 0s 138us/step - loss: 9.7989e-04 - val_loss: 0.0019\n",
      "Epoch 110/1000\n",
      "140/140 [==============================] - 0s 175us/step - loss: 9.5921e-04 - val_loss: 0.0019\n",
      "Epoch 111/1000\n",
      "140/140 [==============================] - 0s 136us/step - loss: 9.7228e-04 - val_loss: 0.0018\n",
      "Epoch 112/1000\n",
      "140/140 [==============================] - 0s 121us/step - loss: 9.6249e-04 - val_loss: 0.0018\n",
      "Epoch 113/1000\n",
      "140/140 [==============================] - 0s 135us/step - loss: 9.6151e-04 - val_loss: 0.0018\n",
      "Epoch 114/1000\n",
      "140/140 [==============================] - 0s 160us/step - loss: 9.5071e-04 - val_loss: 0.0018\n",
      "Epoch 115/1000\n",
      "140/140 [==============================] - 0s 119us/step - loss: 9.5251e-04 - val_loss: 0.0018\n",
      "Epoch 116/1000\n",
      "140/140 [==============================] - 0s 133us/step - loss: 9.4903e-04 - val_loss: 0.0019\n",
      "Epoch 117/1000\n",
      "140/140 [==============================] - 0s 135us/step - loss: 9.6284e-04 - val_loss: 0.0018\n",
      "Epoch 118/1000\n",
      "140/140 [==============================] - 0s 128us/step - loss: 9.4376e-04 - val_loss: 0.0017\n",
      "Epoch 119/1000\n",
      "140/140 [==============================] - 0s 136us/step - loss: 9.5558e-04 - val_loss: 0.0017\n",
      "Epoch 120/1000\n",
      "140/140 [==============================] - 0s 110us/step - loss: 9.4500e-04 - val_loss: 0.0019\n",
      "Epoch 121/1000\n",
      "140/140 [==============================] - 0s 118us/step - loss: 9.7578e-04 - val_loss: 0.0017\n",
      "Epoch 122/1000\n",
      "140/140 [==============================] - 0s 115us/step - loss: 9.3259e-04 - val_loss: 0.0017\n",
      "Epoch 123/1000\n",
      "140/140 [==============================] - 0s 130us/step - loss: 9.4143e-04 - val_loss: 0.0017\n",
      "Epoch 124/1000\n",
      "140/140 [==============================] - 0s 123us/step - loss: 9.5775e-04 - val_loss: 0.0017\n",
      "Epoch 125/1000\n",
      "140/140 [==============================] - 0s 127us/step - loss: 9.4156e-04 - val_loss: 0.0017\n",
      "Epoch 126/1000\n",
      "140/140 [==============================] - 0s 141us/step - loss: 9.4973e-04 - val_loss: 0.0017\n",
      "Epoch 127/1000\n",
      "140/140 [==============================] - 0s 137us/step - loss: 9.3654e-04 - val_loss: 0.0017\n",
      "Epoch 128/1000\n",
      "140/140 [==============================] - 0s 126us/step - loss: 9.4664e-04 - val_loss: 0.0017\n",
      "Epoch 129/1000\n",
      "140/140 [==============================] - 0s 131us/step - loss: 9.4683e-04 - val_loss: 0.0017\n",
      "Epoch 130/1000\n",
      "140/140 [==============================] - 0s 120us/step - loss: 9.1882e-04 - val_loss: 0.0017\n",
      "Epoch 131/1000\n",
      "140/140 [==============================] - 0s 130us/step - loss: 9.5886e-04 - val_loss: 0.0017\n",
      "Epoch 132/1000\n",
      "140/140 [==============================] - 0s 126us/step - loss: 9.4002e-04 - val_loss: 0.0018\n",
      "Epoch 133/1000\n",
      "140/140 [==============================] - 0s 156us/step - loss: 9.4830e-04 - val_loss: 0.0017\n",
      "Epoch 134/1000\n",
      "140/140 [==============================] - 0s 158us/step - loss: 9.2082e-04 - val_loss: 0.0017\n",
      "Epoch 135/1000\n",
      "140/140 [==============================] - 0s 142us/step - loss: 9.4621e-04 - val_loss: 0.0017\n",
      "Epoch 136/1000\n",
      "140/140 [==============================] - 0s 134us/step - loss: 9.2764e-04 - val_loss: 0.0018\n",
      "Epoch 137/1000\n",
      "140/140 [==============================] - 0s 144us/step - loss: 9.5150e-04 - val_loss: 0.0017\n",
      "Epoch 138/1000\n",
      "140/140 [==============================] - 0s 121us/step - loss: 9.3751e-04 - val_loss: 0.0018\n",
      "Epoch 00138: early stopping\n"
     ]
    }
   ],
   "source": [
    "batch_size= 100\n",
    "epochs=1000\n",
    "\n",
    "earlystopping = EarlyStopping(monitor='val_loss',\n",
    "                              patience=10,\n",
    "                              verbose=1)\n",
    "\n",
    "history=model.fit(X_train,y_train,\n",
    "                  batch_size=batch_size,\n",
    "                  epochs=epochs,\n",
    "                  validation_data=(X_val,y_val),\n",
    "                  callbacks=[earlystopping])"
   ]
  },
  {
   "cell_type": "code",
   "execution_count": 27,
   "metadata": {
    "scrolled": true
   },
   "outputs": [
    {
     "data": {
      "text/plain": [
       "dict_keys(['val_loss', 'loss'])"
      ]
     },
     "execution_count": 27,
     "metadata": {},
     "output_type": "execute_result"
    }
   ],
   "source": [
    "history.history.keys()"
   ]
  },
  {
   "cell_type": "code",
   "execution_count": 37,
   "metadata": {},
   "outputs": [
    {
     "data": {
      "image/png": "[encoded data removed]",
      "text/plain": [
       "<Figure size 432x288 with 1 Axes>"
      ]
     },
     "metadata": {
      "needs_background": "light"
     },
     "output_type": "display_data"
    }
   ],
   "source": [
    "plt.plot(np.array(history.epoch)+1, history.history['val_loss'],label='val')\n",
    "plt.plot(np.array(history.epoch)+1, history.history['loss'],label='train')\n",
    "plt.legend(frameon=False)\n",
    "plt.xlabel('Epochs')\n",
    "plt.ylabel('Loss')\n",
    "plt.show()"
   ]
  },
  {
   "cell_type": "markdown",
   "metadata": {},
   "source": [
    "The predicted data is obtained."
   ]
  },
  {
   "cell_type": "code",
   "execution_count": 38,
   "metadata": {},
   "outputs": [],
   "source": [
    "original = [f_original[i] for i in range(max_len)]\n",
    "predicted = [None for i in range(max_len)] \n",
    "\n",
    "X0=X[:1] # shape: (1,25,1)\n",
    "\n",
    "for i in range(N - max_len):\n",
    "    pred = model.predict(X0[-1:]) # make a prediction\n",
    "    predicted.append(pred[0,0]) # add to the list \n",
    "    \n",
    "    X0=np.append(X0,pred)[1:] # Omit the first data and add the predicted data.\n",
    "    X0=X0.reshape(-1,max_len,1) # reshape the data: 1, max_len, 1"
   ]
  },
  {
   "cell_type": "code",
   "execution_count": 42,
   "metadata": {},
   "outputs": [
    {
     "data": {
      "image/png": "[encoded data removed]",
      "text/plain": [
       "<Figure size 432x288 with 1 Axes>"
      ]
     },
     "metadata": {
      "needs_background": "light"
     },
     "output_type": "display_data"
    }
   ],
   "source": [
    "plt.plot(f_original, color='black' ,label='original data')\n",
    "plt.plot(predicted, color='red', label='predicted data')\n",
    "plt.legend(frameon=False)\n",
    "plt.xlabel('Time')\n",
    "plt.show()"
   ]
  },
  {
   "cell_type": "code",
   "execution_count": null,
   "metadata": {},
   "outputs": [],
   "source": []
  },
  {
   "cell_type": "code",
   "execution_count": null,
   "metadata": {},
   "outputs": [],
   "source": []
  },
  {
   "cell_type": "code",
   "execution_count": null,
   "metadata": {},
   "outputs": [],
   "source": []
  }
 ],
 "metadata": {
  "kernelspec": {
   "display_name": "Python 3",
   "language": "python",
   "name": "python3"
  },
  "language_info": {
   "codemirror_mode": {
    "name": "ipython",
    "version": 3
   },
   "file_extension": ".py",
   "mimetype": "text/x-python",
   "name": "python",
   "nbconvert_exporter": "python",
   "pygments_lexer": "ipython3",
   "version": "3.7.1"
  },
  "toc": {
   "base_numbering": 1,
   "nav_menu": {},
   "number_sections": true,
   "sideBar": true,
   "skip_h1_title": false,
   "title_cell": "Table of Contents",
   "title_sidebar": "Contents",
   "toc_cell": false,
   "toc_position": {},
   "toc_section_display": true,
   "toc_window_display": false
  }
 },
 "nbformat": 4,
 "nbformat_minor": 2
}
