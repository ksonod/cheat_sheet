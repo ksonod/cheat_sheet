{
 "cells": [
  {
   "cell_type": "code",
   "execution_count": 1,
   "metadata": {},
   "outputs": [],
   "source": [
    "import pandas as pd\n",
    "import numpy as np\n",
    "import base64\n",
    "from IPython.display import HTML"
   ]
  },
  {
   "cell_type": "code",
   "execution_count": 2,
   "metadata": {},
   "outputs": [],
   "source": [
    "def create_download_link(df, title = \"Download CSV file\", filename = \"data.csv\"):  \n",
    "    csv = df.to_csv()\n",
    "    b64 = base64.b64encode(csv.encode())\n",
    "    html = '<a download=\"{filename}\" href=\"data:text/csv;base64,{payload}\" target=\"_blank\">{title}</a>'\n",
    "    html = html.format(payload=b64.decode(),title=title,filename=filename)\n",
    "    return HTML(html)"
   ]
  },
  {
   "cell_type": "code",
   "execution_count": 5,
   "metadata": {},
   "outputs": [
    {
     "data": {
      "text/html": [
       "<div>\n",
       "<style scoped>\n",
       "    .dataframe tbody tr th:only-of-type {\n",
       "        vertical-align: middle;\n",
       "    }\n",
       "\n",
       "    .dataframe tbody tr th {\n",
       "        vertical-align: top;\n",
       "    }\n",
       "\n",
       "    .dataframe thead th {\n",
       "        text-align: right;\n",
       "    }\n",
       "</style>\n",
       "<table border=\"1\" class=\"dataframe\">\n",
       "  <thead>\n",
       "    <tr style=\"text-align: right;\">\n",
       "      <th></th>\n",
       "      <th>A</th>\n",
       "      <th>B</th>\n",
       "      <th>C</th>\n",
       "      <th>D</th>\n",
       "    </tr>\n",
       "  </thead>\n",
       "  <tbody>\n",
       "    <tr>\n",
       "      <th>0</th>\n",
       "      <td>-0.755239</td>\n",
       "      <td>-0.101958</td>\n",
       "      <td>0.371686</td>\n",
       "      <td>0.511090</td>\n",
       "    </tr>\n",
       "    <tr>\n",
       "      <th>1</th>\n",
       "      <td>0.624709</td>\n",
       "      <td>0.066905</td>\n",
       "      <td>-1.973879</td>\n",
       "      <td>0.032386</td>\n",
       "    </tr>\n",
       "    <tr>\n",
       "      <th>2</th>\n",
       "      <td>0.299747</td>\n",
       "      <td>1.234595</td>\n",
       "      <td>0.045252</td>\n",
       "      <td>0.543922</td>\n",
       "    </tr>\n",
       "    <tr>\n",
       "      <th>3</th>\n",
       "      <td>0.333121</td>\n",
       "      <td>-0.150978</td>\n",
       "      <td>1.936655</td>\n",
       "      <td>1.016171</td>\n",
       "    </tr>\n",
       "    <tr>\n",
       "      <th>4</th>\n",
       "      <td>-0.391670</td>\n",
       "      <td>-1.087443</td>\n",
       "      <td>-0.198613</td>\n",
       "      <td>0.214384</td>\n",
       "    </tr>\n",
       "  </tbody>\n",
       "</table>\n",
       "</div>"
      ],
      "text/plain": [
       "          A         B         C         D\n",
       "0 -0.755239 -0.101958  0.371686  0.511090\n",
       "1  0.624709  0.066905 -1.973879  0.032386\n",
       "2  0.299747  1.234595  0.045252  0.543922\n",
       "3  0.333121 -0.150978  1.936655  1.016171\n",
       "4 -0.391670 -1.087443 -0.198613  0.214384"
      ]
     },
     "execution_count": 5,
     "metadata": {},
     "output_type": "execute_result"
    }
   ],
   "source": [
    "#random dataframe\n",
    "df = pd.DataFrame(np.random.randn(10, 4), columns=list('ABCD'))\n",
    "\n",
    "df.head()"
   ]
  },
  {
   "cell_type": "code",
   "execution_count": 6,
   "metadata": {},
   "outputs": [
    {
     "data": {
      "text/html": [
       "<a download=\"data.csv\" href=\"data:text/csv;base64,LEEsQixDLEQKMCwtMC43NTUyMzg5MTUyODE1NzczLC0wLjEwMTk1NzU2MjIxMDU2MTkyLDAuMzcxNjg1NzU4OTQwNzAwMDUsMC41MTEwODk4MTY1MzI2ODE5CjEsMC42MjQ3MDkzMjI5MTQ1Nzc1LDAuMDY2OTA1MzgyMDgyMTc3OTcsLTEuOTczODc5NDM5MTIwMDEwNywwLjAzMjM4NTg3ODQyNDQ3NzU5CjIsMC4yOTk3NDcyMzczNjM0MDc5LDEuMjM0NTk1MTA4NDk1OTY1NywwLjA0NTI1MjQwNjA5NjQyODE2LDAuNTQzOTIyMDY3MDg1MTkyOQozLDAuMzMzMTIwOTMwODYwNDUzNDcsLTAuMTUwOTc4Mzk4NTA1NTI5NzQsMS45MzY2NTU0MDYzNDAzMzAzLDEuMDE2MTcwOTY2NzQ0MzQ2CjQsLTAuMzkxNjY5NTUzOTMyMDY5NiwtMS4wODc0NDMzNzUwNDc3NDAxLC0wLjE5ODYxMzE3NDY3MTU5MDksMC4yMTQzODM1Mzk2NTg0MjE4Mwo1LDAuMTU5NDA3MDM2MTk4NzcxMywwLjA0MTE2NDkxNDI0MDM4MDk5LDAuMDAwMTk1MDA1Nzk2MDAxODY2MjgsLTAuMDM5MjA3NTg0MDY0MzkyNDQ2CjYsMC45NTA3NTkwNzU0NzUwNzUsMC42MTcxMzMwNTAyNjYzNDg2LDAuNDMyNjM1NzU3MjAwNzc4NiwtMC42MDI4NTQ0MjE4NDMyNjE4CjcsMC42MTgxMTk5OTQ0MDYwNjY1LDEuMzM3OTAzNjUzMDUxODM3LC0xLjIzNjI2MjcyOTIxODE1NDUsMC4zNTcxNjU0NTMzNTExNzM5CjgsLTAuMTM5NDc2MzUxOTA4MjgyNzUsLTAuNTQ2MjUxNDkyNTUxMDgxNSwwLjI5NTA3NTA4NDQwOTExMjgsLTEuNzgxOTkyNTU1NTA5MjEyMgo5LC0wLjM5MTgwOTIwOTY0NzQzODgsMC41ODg3NTM2MzIzNjk0MDI3LDEuNTcyNzExNjY5OTc5Mzg5LC0xLjg0MDM3MTcxNzM4NTY2OQo=\" target=\"_blank\">Download CSV file</a>"
      ],
      "text/plain": [
       "<IPython.core.display.HTML object>"
      ]
     },
     "execution_count": 6,
     "metadata": {},
     "output_type": "execute_result"
    }
   ],
   "source": [
    "# create a link to download the dataframe\n",
    "create_download_link(df)\n"
   ]
  },
  {
   "cell_type": "code",
   "execution_count": null,
   "metadata": {},
   "outputs": [],
   "source": []
  },
  {
   "cell_type": "code",
   "execution_count": null,
   "metadata": {},
   "outputs": [],
   "source": []
  }
 ],
 "metadata": {
  "kernelspec": {
   "display_name": "Python 3",
   "language": "python",
   "name": "python3"
  },
  "language_info": {
   "codemirror_mode": {
    "name": "ipython",
    "version": 3
   },
   "file_extension": ".py",
   "mimetype": "text/x-python",
   "name": "python",
   "nbconvert_exporter": "python",
   "pygments_lexer": "ipython3",
   "version": "3.6.5"
  },
  "toc": {
   "base_numbering": 1,
   "nav_menu": {},
   "number_sections": true,
   "sideBar": true,
   "skip_h1_title": false,
   "title_cell": "Table of Contents",
   "title_sidebar": "Contents",
   "toc_cell": false,
   "toc_position": {},
   "toc_section_display": true,
   "toc_window_display": false
  }
 },
 "nbformat": 4,
 "nbformat_minor": 2
}
