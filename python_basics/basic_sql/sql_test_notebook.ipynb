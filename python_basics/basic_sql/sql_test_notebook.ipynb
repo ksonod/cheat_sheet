{
 "cells": [
  {
   "cell_type": "markdown",
   "metadata": {},
   "source": [
    "Useful link: https://www.sqlitetutorial.net/sqlite-python/"
   ]
  },
  {
   "cell_type": "code",
   "execution_count": 1,
   "metadata": {},
   "outputs": [],
   "source": [
    "import numpy as np\n",
    "import matplotlib.pyplot as plt\n",
    "import pandas as pd\n",
    "import sqlite3\n",
    "import os"
   ]
  },
  {
   "cell_type": "code",
   "execution_count": 200,
   "metadata": {},
   "outputs": [],
   "source": [
    "common_path = os.getcwd()\n",
    "datpath = common_path + \"\\\\test.db\""
   ]
  },
  {
   "cell_type": "markdown",
   "metadata": {},
   "source": [
    "# Basic part"
   ]
  },
  {
   "cell_type": "code",
   "execution_count": 58,
   "metadata": {},
   "outputs": [],
   "source": [
    "conn = sqlite3.connect(datpath) # establish a conenction to the SQLite database from python\n",
    "cur = conn.cursor() # get a cursor object from the connection object\n",
    "\n",
    "#                                 #\n",
    "# You can add your own code here. #\n",
    "#                                 #\n",
    "\n",
    "conn.commit() # save (commit) the changes\n",
    "conn.close() # close"
   ]
  },
  {
   "cell_type": "markdown",
   "metadata": {},
   "source": [
    "# CREATE TABLE"
   ]
  },
  {
   "cell_type": "markdown",
   "metadata": {},
   "source": [
    "|  a1    |   a2   |   a3   |\n",
    "| ------ | ------ | ------ |\n",
    "|    4   |     3  |    2   |\n",
    "|   10   |  NULL  |  NULL  |"
   ]
  },
  {
   "cell_type": "code",
   "execution_count": 44,
   "metadata": {},
   "outputs": [
    {
     "name": "stdout",
     "output_type": "stream",
     "text": [
      "Check the created database\n",
      "[(4, 3, 2), (10, None, None), (4, 3, 2), (10, None, None)]\n"
     ]
    }
   ],
   "source": [
    "conn = sqlite3.connect(datpath) # establish a conenction to the SQLite database from python\n",
    "cur = conn.cursor() # get a cursor object from the connection object\n",
    "\n",
    "# Create a table named tab1\n",
    "cur.execute('CREATE TABLE IF NOT EXISTS tab1 (a1,a2,a3);')\n",
    "\n",
    "# Insert a row of data. The names of columns are a1, a2, and a3.\n",
    "cur.execute(\"INSERT INTO tab1 (a1,a2,a3) VALUES (?,?,?);\",(4,3,2))\n",
    "\n",
    "# Insert a row of data. The names of columns are a1, a2, and a3.\n",
    "cur.execute(\"INSERT INTO tab1(a1) VALUES (10);\")\n",
    "\n",
    "# show the contents of a table\n",
    "print(\"Check the created database\")\n",
    "cur.execute('SELECT * FROM tab1')\n",
    "print(cur.fetchall())\n",
    "# Save (commit) the changes\n",
    "conn.commit()\n",
    "\n",
    "# close\n",
    "conn.close()"
   ]
  },
  {
   "cell_type": "markdown",
   "metadata": {},
   "source": [
    "# Create pandas dataframe and save it on a database"
   ]
  },
  {
   "cell_type": "code",
   "execution_count": 50,
   "metadata": {},
   "outputs": [
    {
     "data": {
      "text/html": [
       "<div>\n",
       "<style scoped>\n",
       "    .dataframe tbody tr th:only-of-type {\n",
       "        vertical-align: middle;\n",
       "    }\n",
       "\n",
       "    .dataframe tbody tr th {\n",
       "        vertical-align: top;\n",
       "    }\n",
       "\n",
       "    .dataframe thead th {\n",
       "        text-align: right;\n",
       "    }\n",
       "</style>\n",
       "<table border=\"1\" class=\"dataframe\">\n",
       "  <thead>\n",
       "    <tr style=\"text-align: right;\">\n",
       "      <th></th>\n",
       "      <th>name</th>\n",
       "      <th>age</th>\n",
       "      <th>weight</th>\n",
       "    </tr>\n",
       "  </thead>\n",
       "  <tbody>\n",
       "    <tr>\n",
       "      <th>0</th>\n",
       "      <td>Tom</td>\n",
       "      <td>20</td>\n",
       "      <td>70.1</td>\n",
       "    </tr>\n",
       "    <tr>\n",
       "      <th>1</th>\n",
       "      <td>nick</td>\n",
       "      <td>21</td>\n",
       "      <td>72.4</td>\n",
       "    </tr>\n",
       "    <tr>\n",
       "      <th>2</th>\n",
       "      <td>krish</td>\n",
       "      <td>19</td>\n",
       "      <td>74.5</td>\n",
       "    </tr>\n",
       "    <tr>\n",
       "      <th>3</th>\n",
       "      <td>jack</td>\n",
       "      <td>18</td>\n",
       "      <td>76.8</td>\n",
       "    </tr>\n",
       "  </tbody>\n",
       "</table>\n",
       "</div>"
      ],
      "text/plain": [
       "    name  age  weight\n",
       "0    Tom   20    70.1\n",
       "1   nick   21    72.4\n",
       "2  krish   19    74.5\n",
       "3   jack   18    76.8"
      ]
     },
     "execution_count": 50,
     "metadata": {},
     "output_type": "execute_result"
    }
   ],
   "source": [
    "data = {'name':['Tom', 'nick', 'krish', 'jack'],\n",
    "        'age':[20, 21, 19, 18],\n",
    "        'weight':[70.1,72.4,74.5,76.8]\n",
    "       } \n",
    "df= pd.DataFrame(data)\n",
    "\n",
    "df.head()"
   ]
  },
  {
   "cell_type": "code",
   "execution_count": 66,
   "metadata": {},
   "outputs": [
    {
     "name": "stdout",
     "output_type": "stream",
     "text": [
      "Check the ages\n",
      "(20,)\n",
      "(21,)\n",
      "(19,)\n",
      "(18,)\n"
     ]
    }
   ],
   "source": [
    "conn = sqlite3.connect(datpath) # establish a conenction to the SQLite database from python\n",
    "cur = conn.cursor() # get a cursor object from the connection object\n",
    "\n",
    "# Create a table named tab2 with data\n",
    "df.to_sql('tab2', conn, if_exists='replace')\n",
    "\n",
    "# show the ages\n",
    "print(\"Check the ages\")\n",
    "for row in cur.execute('SELECT age FROM tab2'):\n",
    "    print(row)\n",
    "    \n",
    "# Save (commit) the changes\n",
    "conn.commit()\n",
    "\n",
    "# close\n",
    "conn.close()"
   ]
  },
  {
   "cell_type": "markdown",
   "metadata": {},
   "source": [
    "# Save and load image data"
   ]
  },
  {
   "cell_type": "markdown",
   "metadata": {},
   "source": [
    "A sample image is shown below."
   ]
  },
  {
   "cell_type": "code",
   "execution_count": 185,
   "metadata": {},
   "outputs": [
    {
     "data": {
      "image/png": "[encoded data removed]",
      "text/plain": [
       "<Figure size 432x288 with 1 Axes>"
      ]
     },
     "metadata": {},
     "output_type": "display_data"
    }
   ],
   "source": [
    "filename=\"test_image\"\n",
    "\n",
    "img=np.loadtxt(filename + '.txt') # load an image data\n",
    "n=img.shape[0] # size of the image\n",
    "m=img.shape[1] # size of the image\n",
    "plt.imshow(img) # visualization\n",
    "plt.show()"
   ]
  },
  {
   "cell_type": "markdown",
   "metadata": {},
   "source": [
    "The image data, which is a numpy array, is stored in a pandas dataframe. The image data is originaly a matrix, but it is converted into a vector."
   ]
  },
  {
   "cell_type": "code",
   "execution_count": 202,
   "metadata": {},
   "outputs": [
    {
     "data": {
      "text/html": [
       "<div>\n",
       "<style scoped>\n",
       "    .dataframe tbody tr th:only-of-type {\n",
       "        vertical-align: middle;\n",
       "    }\n",
       "\n",
       "    .dataframe tbody tr th {\n",
       "        vertical-align: top;\n",
       "    }\n",
       "\n",
       "    .dataframe thead th {\n",
       "        text-align: right;\n",
       "    }\n",
       "</style>\n",
       "<table border=\"1\" class=\"dataframe\">\n",
       "  <thead>\n",
       "    <tr style=\"text-align: right;\">\n",
       "      <th></th>\n",
       "      <th>test_image</th>\n",
       "    </tr>\n",
       "  </thead>\n",
       "  <tbody>\n",
       "    <tr>\n",
       "      <th>0</th>\n",
       "      <td>115.0</td>\n",
       "    </tr>\n",
       "    <tr>\n",
       "      <th>1</th>\n",
       "      <td>118.1</td>\n",
       "    </tr>\n",
       "    <tr>\n",
       "      <th>2</th>\n",
       "      <td>116.0</td>\n",
       "    </tr>\n",
       "    <tr>\n",
       "      <th>3</th>\n",
       "      <td>115.6</td>\n",
       "    </tr>\n",
       "    <tr>\n",
       "      <th>4</th>\n",
       "      <td>115.0</td>\n",
       "    </tr>\n",
       "  </tbody>\n",
       "</table>\n",
       "</div>"
      ],
      "text/plain": [
       "   test_image\n",
       "0       115.0\n",
       "1       118.1\n",
       "2       116.0\n",
       "3       115.6\n",
       "4       115.0"
      ]
     },
     "execution_count": 202,
     "metadata": {},
     "output_type": "execute_result"
    }
   ],
   "source": [
    "dfimg=pd.DataFrame(data=img.reshape(-1,1),columns=[filename]) # create a dataframe\n",
    "dfimg.head()"
   ]
  },
  {
   "cell_type": "markdown",
   "metadata": {},
   "source": [
    "SQLite does not support `ALTER TABLE DROP COLUMN` statement. Hence, the procedure is as follows:\n",
    "- A new table (tab_df) is created from a pandas dataframe.\n",
    "- A new blanck table (tab) is created.\n",
    "- The data which is originally stored in the dataframe is inserted into the blanck table (tab).\n",
    "- The table made from the pandas dataframe (tab_df) is deleted."
   ]
  },
  {
   "cell_type": "code",
   "execution_count": 192,
   "metadata": {},
   "outputs": [],
   "source": [
    "conn = sqlite3.connect(datpath) # establish a conenction to the SQLite database from python\n",
    "cur = conn.cursor() # get a cursor object from the connection object\n",
    "\n",
    "# create a table named tab3_df from a dataframe\n",
    "dfimg.to_sql('tab3_df', conn, if_exists='replace')\n",
    "\n",
    "# create a blanck table\n",
    "cur.execute(\"CREATE TABLE IF NOT EXISTS tab3(%s);\"%filename)\n",
    "\n",
    "# copy\n",
    "cur.execute(\"INSERT INTO tab3(%s) SELECT %s FROM tab3_df;\"%(filename,filename))\n",
    "\n",
    "# delete the original table\n",
    "cur.execute(\"DROP TABLE tab3_df\")\n",
    "\n",
    "# get data\n",
    "cur.execute('SELECT * FROM tab3')\n",
    "im=cur.fetchall()\n",
    "\n",
    "# save (commit) the changes\n",
    "conn.commit()\n",
    "\n",
    "# close\n",
    "conn.close()"
   ]
  },
  {
   "cell_type": "markdown",
   "metadata": {},
   "source": [
    "The data stored in the database is converted to numpy array in the previous cell. Here, the image is shown again."
   ]
  },
  {
   "cell_type": "code",
   "execution_count": 203,
   "metadata": {
    "scrolled": true
   },
   "outputs": [
    {
     "data": {
      "image/png": "[encoded data removed]",
      "text/plain": [
       "<Figure size 432x288 with 1 Axes>"
      ]
     },
     "metadata": {},
     "output_type": "display_data"
    }
   ],
   "source": [
    "plt.imshow(np.array(im)[:,0].reshape(n,m))\n",
    "plt.show()"
   ]
  }
 ],
 "metadata": {
  "kernelspec": {
   "display_name": "Python 3",
   "language": "python",
   "name": "python3"
  },
  "language_info": {
   "codemirror_mode": {
    "name": "ipython",
    "version": 3
   },
   "file_extension": ".py",
   "mimetype": "text/x-python",
   "name": "python",
   "nbconvert_exporter": "python",
   "pygments_lexer": "ipython3",
   "version": "3.6.5"
  },
  "toc": {
   "base_numbering": 1,
   "nav_menu": {},
   "number_sections": true,
   "sideBar": true,
   "skip_h1_title": false,
   "title_cell": "Table of Contents",
   "title_sidebar": "Contents",
   "toc_cell": false,
   "toc_position": {},
   "toc_section_display": true,
   "toc_window_display": true
  }
 },
 "nbformat": 4,
 "nbformat_minor": 2
}
