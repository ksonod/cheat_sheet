{
 "cells": [
  {
   "cell_type": "markdown",
   "metadata": {},
   "source": [
    "This notebook shows how to prepare environment for using Matlab on Jupyter Notebook. Everything worked for Windows system in August, 2019."
   ]
  },
  {
   "cell_type": "markdown",
   "metadata": {},
   "source": [
    "1. Install Anaconda. If you use the latest version (August, 2019), Python 3.7 will be installed. However, Python 3.5 is needed for MATLAB_R2017.\n",
    "2. Open “Anaconda Prompt.” Right click and run it as an administrator.\n",
    "3. Type the command shown below. A new virtual environment called ‘jmatlab’ will be created. It will take about 1 minute.  \n",
    "`conda create -vv -n jmatlab python=3.5 jupyter`\n",
    "4. Activate this environment by typing the command below. You will see that your environment is changed.  \n",
    "`conda activate jmatlab`\n",
    "5. Install the Matlab kernel for jupyter by using these commands:  \n",
    "`pip install matlab_kernel`  \n",
    "`python -m matlab_kernel install`  \n",
    "6. You can check if the kernel is installed correctly. After typing  \n",
    "`jupyter kernelspec list`,   \n",
    "you should be able to see matlab and python3.\n",
    "7. Go to “C:\\Program Files\\MATLAB\\R2017b\\extern\\engines\\python,” where setup.py is located. You can use “cd” command.\n",
    "8. Install the python engine by typing:  \n",
    "`python setup.py install`\n",
    "9. Now, everything is done. You can go to your working directory, then type “jupyter notebook.” A new window will appear. Click the “New” tab on top right. If there are Matlab and Python 3, you successfully prepared environment. You can use Matlab commands on Jupyter Notebook!"
   ]
  },
  {
   "cell_type": "code",
   "execution_count": 9,
   "metadata": {},
   "outputs": [
    {
     "name": "stdout",
     "output_type": "stream",
     "text": [
      "     2\n",
      "\n",
      "\n"
     ]
    }
   ],
   "source": [
    "% This is a test for the Matlab command.\n",
    "a=1+1;\n",
    "disp(a)"
   ]
  },
  {
   "cell_type": "code",
   "execution_count": null,
   "metadata": {},
   "outputs": [],
   "source": []
  }
 ],
 "metadata": {
  "kernelspec": {
   "display_name": "Matlab",
   "language": "matlab",
   "name": "matlab"
  },
  "language_info": {
   "codemirror_mode": "octave",
   "file_extension": ".m",
   "help_links": [
    {
     "text": "MetaKernel Magics",
     "url": "https://metakernel.readthedocs.io/en/latest/source/README.html"
    }
   ],
   "mimetype": "text/x-octave",
   "name": "matlab",
   "version": "0.16.7"
  }
 },
 "nbformat": 4,
 "nbformat_minor": 2
}
