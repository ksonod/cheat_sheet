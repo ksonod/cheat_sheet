{
 "cells": [
  {
   "cell_type": "markdown",
   "id": "62503257-b2ad-4596-8470-a72f867a8b75",
   "metadata": {},
   "source": [
    "# Inheritance"
   ]
  },
  {
   "cell_type": "markdown",
   "id": "64e56a8a-ccff-4c92-a44f-4ccde6eea034",
   "metadata": {},
   "source": [
    "- Inheritance is the sharing of attributes and methods among classes. \n",
    "- A class called <strong>subclass</strong> (child) inherits from another one called <strong>superclass</strong> (parent)"
   ]
  },
  {
   "cell_type": "markdown",
   "id": "704488ae-381d-4ad8-82a8-32de0a669dc5",
   "metadata": {},
   "source": [
    "# Overriding"
   ]
  },
  {
   "cell_type": "markdown",
   "id": "ce03dac8-17f6-42dd-bf37-9cd33ea9d1c9",
   "metadata": {},
   "source": [
    "- By overriding parent class methods in a child class, we can prepare a single method with slightly different meanings for different classes.\n",
    "- The method name, return type, and number and type of parameters need to be the same.\n",
    "- You can add @Override to explicitly show method overriding. You can opt not to add that."
   ]
  },
  {
   "cell_type": "markdown",
   "id": "cc14fdf0-ef11-4525-9ba3-9d33d60a0afb",
   "metadata": {},
   "source": [
    "# Example"
   ]
  },
  {
   "cell_type": "markdown",
   "id": "986ada52-98e9-4bb5-b772-d9ce0a53016d",
   "metadata": {},
   "source": [
    "Superclass"
   ]
  },
  {
   "cell_type": "code",
   "execution_count": 20,
   "id": "f33e3779-331f-4058-b564-9ae689b7b078",
   "metadata": {},
   "outputs": [],
   "source": [
    "public class Employee\n",
    "{\n",
    "    private String nameEmployee;\n",
    "    \n",
    "    // Constructor\n",
    "    public Employee(String nameIn)\n",
    "    {\n",
    "        nameEmployee = nameIn;\n",
    "    }\n",
    "    \n",
    "    public String getName()\n",
    "    {\n",
    "        return nameEmployee;\n",
    "    }\n",
    "    \n",
    "    public double raiseSalary(double currentSalary)\n",
    "    {\n",
    "        return currentSalary + 10.0;\n",
    "    }\n",
    "}"
   ]
  },
  {
   "cell_type": "code",
   "execution_count": 27,
   "id": "5e34826b-020a-4611-8cb2-01ec20feee83",
   "metadata": {},
   "outputs": [
    {
     "name": "stdout",
     "output_type": "stream",
     "text": [
      "Name: John\n",
      "Raised salary: 110.0\n"
     ]
    }
   ],
   "source": [
    "Employee employee1 = new Employee(\"John\");\n",
    "System.out.println(\"Name: \" + employee1.getName());\n",
    "System.out.println(\"Raised salary: \" + employee1.raiseSalary(100.0));  // + 10"
   ]
  },
  {
   "cell_type": "markdown",
   "id": "f48a5323-ca07-4282-8f76-810234189b76",
   "metadata": {},
   "source": [
    "Subclass"
   ]
  },
  {
   "cell_type": "code",
   "execution_count": 41,
   "id": "095a0e41-aa15-4a50-a10a-aacedcf306a5",
   "metadata": {},
   "outputs": [],
   "source": [
    "public class PartTimeEmployee extends Employee // this class is a subclass of the superclass Employee\n",
    "{\n",
    "    private double hourlyPay; // this attribute is unique to the subclass\n",
    "    \n",
    "    // constructor\n",
    "    public PartTimeEmployee(String nameIn, double hourlyPayIn)\n",
    "    {\n",
    "        super(nameIn); // call the constructor of the superclass Employee. This line should be the first one here.\n",
    "        hourlyPay = hourlyPayIn;\n",
    "    }\n",
    "    \n",
    "    public double getHourlyPay() // a method unique to the subclass\n",
    "    {\n",
    "        return hourlyPay;\n",
    "    }\n",
    "    \n",
    "    // Method overriding\n",
    "    @Override\n",
    "    public double raiseSalary(double currentSalary)\n",
    "    {\n",
    "        return currentSalary + 7.0;\n",
    "    }\n",
    "}"
   ]
  },
  {
   "cell_type": "code",
   "execution_count": 35,
   "id": "3abacf9d-1d57-4d71-8666-a4c098f6a032",
   "metadata": {},
   "outputs": [
    {
     "name": "stdout",
     "output_type": "stream",
     "text": [
      "hourly pay: 40.0\n",
      "Name: Katy\n",
      "raised salary: 47.0\n"
     ]
    }
   ],
   "source": [
    "// Creating an object using a subclass constructor.\n",
    "PartTimeEmployee partTimeWorker1 = new PartTimeEmployee(\"Katy\", 40.0);\n",
    "\n",
    "//Using a method unique to the subclass\n",
    "System.out.println(\"hourly pay: \" + partTimeWorker1.getHourlyPay());\n",
    "\n",
    "// Using a method defined in a superclass. The method getName() is inherited.\n",
    "System.out.println(\"Name: \" + partTimeWorker1.getName());\n",
    "\n",
    "// Using a overridden method\n",
    "System.out.println(\"raised salary: \" + partTimeWorker1.raiseSalary(40.0));  // Not +10, but + 7 because the overridden method is used."
   ]
  },
  {
   "cell_type": "markdown",
   "id": "6b36a8c4-243b-4239-ae27-c085c8536a15",
   "metadata": {},
   "source": [
    "# References\n",
    "- https://www.w3schools.com/java/java_inheritance.asp "
   ]
  }
 ],
 "metadata": {
  "kernelspec": {
   "display_name": "Java",
   "language": "java",
   "name": "java"
  },
  "language_info": {
   "codemirror_mode": "java",
   "file_extension": ".jshell",
   "mimetype": "text/x-java-source",
   "name": "Java",
   "pygments_lexer": "java",
   "version": "11.0.10+9-LTS"
  }
 },
 "nbformat": 4,
 "nbformat_minor": 5
}
