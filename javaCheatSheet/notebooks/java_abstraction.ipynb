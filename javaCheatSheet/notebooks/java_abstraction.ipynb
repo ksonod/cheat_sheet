{
 "cells": [
  {
   "cell_type": "markdown",
   "metadata": {},
   "source": [
    "# Abstract class and method"
   ]
  },
  {
   "cell_type": "markdown",
   "metadata": {},
   "source": [
    "- An abstract class cannot be instantiated. However, subclasses can be made from this abstract class.\n",
    "- The term \"abstract\" is probably based on a fact that you cannot create an object (concreate instance).\n",
    "- An abstract method is a method that is declared without an implementation (i.e., no braces or body). \n",
    "- The term \"abstract\" probably relies on a fact that no implementation is specified.\n",
    "- When a subclass is created from an abstract class, an abstract method is defined in the subclass."
   ]
  },
  {
   "cell_type": "markdown",
   "metadata": {},
   "source": [
    "Let us define an abstract class."
   ]
  },
  {
   "cell_type": "code",
   "execution_count": 6,
   "metadata": {},
   "outputs": [],
   "source": [
    "public abstract class Employee\n",
    "{\n",
    "    private String name;\n",
    "    \n",
    "    public Employee(String nameIn)\n",
    "    {\n",
    "        name = nameIn;\n",
    "    }\n",
    "    \n",
    "    public void showName()\n",
    "    {\n",
    "        System.out.println(name);\n",
    "    }\n",
    "    \n",
    "    // Abstract method. There is no body for the abstract method. \n",
    "    // This will be overridden in methods of subclasses.\n",
    "    public abstract void showStatus();\n",
    "}"
   ]
  },
  {
   "cell_type": "markdown",
   "metadata": {},
   "source": [
    "You cannot instantiate the abstract class."
   ]
  },
  {
   "cell_type": "code",
   "execution_count": 2,
   "metadata": {},
   "outputs": [
    {
     "ename": "CompilationException",
     "evalue": "",
     "output_type": "error",
     "traceback": [
      "\u001b[1m\u001b[30m|   \u001b[1m\u001b[30mEmployee person1 = \u001b[0m\u001b[1m\u001b[30m\u001b[41mnew Employee(\"Kate\")\u001b[0m\u001b[1m\u001b[30m;\u001b[0m",
      "\u001b[1m\u001b[31mEmployee is abstract; cannot be instantiated\u001b[0m",
      ""
     ]
    }
   ],
   "source": [
    "Employee person1 = new Employee(\"Kate\");  // Error"
   ]
  },
  {
   "cell_type": "markdown",
   "metadata": {},
   "source": [
    "Two subclasses are created. "
   ]
  },
  {
   "cell_type": "code",
   "execution_count": 8,
   "metadata": {},
   "outputs": [],
   "source": [
    "public class PartTimeEmployee extends Employee\n",
    "{    \n",
    "    public PartTimeEmployee(String nameIn)\n",
    "    {\n",
    "        super(nameIn);\n",
    "    }\n",
    "    \n",
    "    // This method was introduced as an abstract method in Employee class. Here, a method over\n",
    "    @Override\n",
    "    public void showStatus()  \n",
    "    {\n",
    "        System.out.println(\"Part-time\");\n",
    "    }\n",
    "}"
   ]
  },
  {
   "cell_type": "code",
   "execution_count": 9,
   "metadata": {},
   "outputs": [],
   "source": [
    "public class FullTimeEmployee extends Employee\n",
    "{    \n",
    "    public FullTimeEmployee(String nameIn)\n",
    "    {\n",
    "        super(nameIn);\n",
    "    }\n",
    "    \n",
    "    // This method was introduced as an abstract method in Employee class. Here, a method over\n",
    "    @Override\n",
    "    public void showStatus()  \n",
    "    {\n",
    "        System.out.println(\"Full-time\");\n",
    "    }\n",
    "}"
   ]
  },
  {
   "cell_type": "markdown",
   "metadata": {},
   "source": [
    "These classes can be instantiated."
   ]
  },
  {
   "cell_type": "code",
   "execution_count": 10,
   "metadata": {},
   "outputs": [
    {
     "name": "stdout",
     "output_type": "stream",
     "text": [
      "Part-time\n",
      "Full-time\n"
     ]
    }
   ],
   "source": [
    "PartTimeEmployee emp1 = new PartTimeEmployee(\"John\");\n",
    "FullTimeEmployee emp2 = new FullTimeEmployee(\"Joey\");\n",
    "\n",
    "emp1.showStatus(); // Overridden method\n",
    "emp2.showStatus();  // Overridden method"
   ]
  },
  {
   "cell_type": "code",
   "execution_count": null,
   "metadata": {},
   "outputs": [],
   "source": []
  },
  {
   "cell_type": "code",
   "execution_count": null,
   "metadata": {},
   "outputs": [],
   "source": []
  },
  {
   "cell_type": "code",
   "execution_count": null,
   "metadata": {},
   "outputs": [],
   "source": []
  },
  {
   "cell_type": "code",
   "execution_count": 15,
   "metadata": {},
   "outputs": [],
   "source": []
  },
  {
   "cell_type": "code",
   "execution_count": null,
   "metadata": {},
   "outputs": [],
   "source": []
  },
  {
   "cell_type": "code",
   "execution_count": null,
   "metadata": {},
   "outputs": [],
   "source": []
  }
 ],
 "metadata": {
  "kernelspec": {
   "display_name": "Java",
   "language": "java",
   "name": "java"
  },
  "language_info": {
   "codemirror_mode": "java",
   "file_extension": ".jshell",
   "mimetype": "text/x-java-source",
   "name": "Java",
   "pygments_lexer": "java",
   "version": "11.0.6+10-LTS"
  }
 },
 "nbformat": 4,
 "nbformat_minor": 5
}
