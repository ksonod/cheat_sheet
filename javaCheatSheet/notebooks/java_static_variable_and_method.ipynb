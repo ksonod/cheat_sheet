{
 "cells": [
  {
   "cell_type": "markdown",
   "id": "2a20c37f-aacc-4617-a47a-89edf5d06b45",
   "metadata": {},
   "source": [
    "# Java Static Variable and Method"
   ]
  },
  {
   "cell_type": "markdown",
   "id": "c61b4eb2-1f47-4c33-8db9-3bd04159ef34",
   "metadata": {},
   "source": [
    "- The memory address of a static variable does not change. That's why it is called \"static.\"\n",
    "- A static method can access to other static methods. In other words, they cannot access to non-static methods.\n",
    "- We can use static methods without creating an object."
   ]
  },
  {
   "cell_type": "markdown",
   "id": "a9cfc5d9-f025-4d3a-85dc-91723c5208c5",
   "metadata": {},
   "source": [
    "## Non-static variable"
   ]
  },
  {
   "cell_type": "code",
   "execution_count": 46,
   "id": "4375768b-305c-4369-9b69-fd4d2aa25eb3",
   "metadata": {},
   "outputs": [],
   "source": [
    "public class NonStaticVar{  \n",
    "    private int var1;  // not static\n",
    "    \n",
    "    public void setVar(int varIn)  // not static\n",
    "    {\n",
    "        var1 = varIn;\n",
    "    }\n",
    "    \n",
    "    public int getVar()\n",
    "    {\n",
    "        return var1;\n",
    "    }\n",
    "}"
   ]
  },
  {
   "cell_type": "code",
   "execution_count": 47,
   "id": "c3f56c27-fcdf-4f08-b027-9823e455c8bf",
   "metadata": {},
   "outputs": [
    {
     "name": "stdout",
     "output_type": "stream",
     "text": [
      "4\n",
      "0\n"
     ]
    }
   ],
   "source": [
    "NonStaticVar var1 = new NonStaticVar();\n",
    "NonStaticVar var2 = new NonStaticVar();\n",
    "var1.setVar(4);\n",
    "System.out.println(var1.getVar()); // The value is set in the previous line.    \n",
    "System.out.println(var2.getVar()); // The value is not set yet. "
   ]
  },
  {
   "cell_type": "markdown",
   "id": "8abcc63d-7593-4559-b9e2-61bb6615f3b6",
   "metadata": {},
   "source": [
    "Here, the method setVar() is called <strong>instance method</strong>. It is always necessary to prepare an object to use this type of a method."
   ]
  },
  {
   "cell_type": "markdown",
   "id": "565d9d29-8481-4f2e-bdbe-f8099988f372",
   "metadata": {},
   "source": [
    "## Static variable and method"
   ]
  },
  {
   "cell_type": "code",
   "execution_count": 66,
   "id": "96ed3a0a-accd-42fc-8d78-ba7e6bc3d908",
   "metadata": {},
   "outputs": [],
   "source": [
    "public class StaticVar{\n",
    "    private static int var1;  // static variable\n",
    "    \n",
    "    public static void setVar(int varIn)  // static method\n",
    "    {\n",
    "        var1 = varIn;\n",
    "    }\n",
    "    \n",
    "    public static int getVar()\n",
    "    {\n",
    "        return var1;\n",
    "    }\n",
    "}"
   ]
  },
  {
   "cell_type": "code",
   "execution_count": 67,
   "id": "ae7ea5f4-611d-4f51-a1c0-a6729693a51d",
   "metadata": {},
   "outputs": [
    {
     "name": "stdout",
     "output_type": "stream",
     "text": [
      "4\n",
      "4\n"
     ]
    }
   ],
   "source": [
    "StaticVar var1 = new StaticVar();\n",
    "StaticVar var2 = new StaticVar();\n",
    "var1.setVar(4);  // The object var1 is used here. However, it is object-independent, so all var1 in the attribute is set to 4.\n",
    "System.out.println(var1.getVar());        \n",
    "System.out.println(var2.getVar());    "
   ]
  },
  {
   "cell_type": "markdown",
   "id": "e5029a85-5d04-4d2b-a650-9ff85f6f0e7e",
   "metadata": {},
   "source": [
    "The memory address of var1 is always the same. That is the reason why it is called \"static.\" \n",
    "\n",
    "We can do the same thing in a different way."
   ]
  },
  {
   "cell_type": "code",
   "execution_count": 71,
   "id": "f9b296b3-4282-4b05-91b6-ead768050282",
   "metadata": {},
   "outputs": [
    {
     "name": "stdout",
     "output_type": "stream",
     "text": [
      "5\n"
     ]
    }
   ],
   "source": [
    "StaticVar.setVar(5);   // This is also possible for static method.\n",
    "System.out.println(StaticVar.getVar()); "
   ]
  },
  {
   "cell_type": "markdown",
   "id": "2517c270-52ed-45ac-9578-f5f1867edb10",
   "metadata": {},
   "source": [
    "Here, we actually don't have to create an object. We use \"<strong>class methods</strong>.\""
   ]
  },
  {
   "cell_type": "code",
   "execution_count": null,
   "id": "e5cf0189-976e-47ad-bc52-034eee84252c",
   "metadata": {},
   "outputs": [],
   "source": []
  }
 ],
 "metadata": {
  "kernelspec": {
   "display_name": "Java",
   "language": "java",
   "name": "java"
  },
  "language_info": {
   "codemirror_mode": "java",
   "file_extension": ".jshell",
   "mimetype": "text/x-java-source",
   "name": "Java",
   "pygments_lexer": "java",
   "version": "11.0.10+9-LTS"
  }
 },
 "nbformat": 4,
 "nbformat_minor": 5
}
